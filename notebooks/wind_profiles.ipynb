{
    "cells": [
        {
            "attachments": {},
            "cell_type": "markdown",
            "metadata": {},
            "source": [
                "# Wind Profiles\n",
                "\n",
                "Notebook for learning about wind profiles for potential use in FEO wind project."
            ]
        },
        {
            "attachments": {},
            "cell_type": "markdown",
            "metadata": {},
            "source": [
                "## Imports"
            ]
        },
        {
            "cell_type": "code",
            "execution_count": 1,
            "metadata": {},
            "outputs": [
                {
                    "name": "stdout",
                    "output_type": "stream",
                    "text": [
                        "/Users/calvinnesbitt/Documents/feo/energy_modelling/wind-to-energy\n"
                    ]
                }
            ],
            "source": [
                "# Assume we're running from project root\n",
                "%cd .. "
            ]
        },
        {
            "cell_type": "code",
            "execution_count": 1,
            "metadata": {},
            "outputs": [],
            "source": [
                "# Local imports\n",
                "# from src.foo import bar\n",
                "\n",
                "# Other imports\n",
                "from pathlib import Path\n",
                "import numpy as np"
            ]
        },
        {
            "cell_type": "code",
            "execution_count": null,
            "metadata": {},
            "outputs": [],
            "source": []
        },
        {
            "attachments": {},
            "cell_type": "markdown",
            "metadata": {},
            "source": [
                "## Landberg Chapter 4"
            ]
        },
        {
            "cell_type": "code",
            "execution_count": 3,
            "metadata": {},
            "outputs": [],
            "source": [
                "# Exercise 4.2\n",
                "\n",
                "def log_wind_profile(height, roughness, friction_velocity, vk_const=0.4):\n",
                "    return friction_velocity/vk_const * np.log(height/roughness)"
            ]
        },
        {
            "cell_type": "code",
            "execution_count": null,
            "metadata": {},
            "outputs": [],
            "source": []
        }
    ],
    "metadata": {
        "kernelspec": {
            "display_name": "feo-metdata",
            "language": "python",
            "name": "python3"
        },
        "language_info": {
            "codemirror_mode": {
                "name": "ipython",
                "version": 3
            },
            "file_extension": ".py",
            "mimetype": "text/x-python",
            "name": "python",
            "nbconvert_exporter": "python",
            "pygments_lexer": "ipython3",
            "version": "3.10.9"
        },
        "orig_nbformat": 4,
        "vscode": {
            "interpreter": {
                "hash": "6ab1e8dcaa43c3be80da050d47a7075f0e5b1f650ce614949dfdbdeb1c707fc9"
            }
        }
    },
    "nbformat": 4,
    "nbformat_minor": 2
}
